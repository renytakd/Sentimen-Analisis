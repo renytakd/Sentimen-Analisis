{
  "cells": [
    {
      "cell_type": "code",
      "execution_count": null,
      "metadata": {
        "id": "lEt9F5xxn1Jt"
      },
      "outputs": [],
      "source": [
        "import pandas as pd\n",
        "from sklearn.feature_extraction.text import CountVectorizer\n",
        "from sklearn.feature_extraction.text import TfidfVectorizer"
      ]
    },
    {
      "cell_type": "code",
      "execution_count": null,
      "metadata": {
        "colab": {
          "base_uri": "https://localhost:8080/"
        },
        "id": "2V6ObPHc04aT",
        "outputId": "362d5f9c-c5b2-4d97-8b2a-b832c11456d4"
      },
      "outputs": [
        {
          "output_type": "stream",
          "name": "stdout",
          "text": [
            "                                               Tweet Sentiment\n",
            "0  teman kuliah ilmu mengoding tenang ajar banget...       POS\n",
            "1                      materi dqlab baca novel fiksi       NET\n",
            "2         sedih koordinator magang dqlab pamit undur       NET\n",
            "3                               bootcamp dqlab hadir       NEG\n",
            "4                  ngomong-ngomong dqlab seru banget       POS\n"
          ]
        }
      ],
      "source": [
        "data = pd.read_excel('/content/drive/MyDrive/SKRIPSI/Validation_DQLab5.xlsx')\n",
        "print(data.head())"
      ]
    },
    {
      "cell_type": "code",
      "execution_count": null,
      "metadata": {
        "colab": {
          "base_uri": "https://localhost:8080/"
        },
        "id": "CCzj-irk1LBe",
        "outputId": "2bd670e4-5c3c-477a-cdd5-c36f57d6d5de"
      },
      "outputs": [
        {
          "output_type": "stream",
          "name": "stdout",
          "text": [
            "0    teman kuliah ilmu mengoding tenang ajar banget...\n",
            "1                        materi dqlab baca novel fiksi\n",
            "2           sedih koordinator magang dqlab pamit undur\n",
            "3                                 bootcamp dqlab hadir\n",
            "4                    ngomong-ngomong dqlab seru banget\n",
            "Name: Tweet, dtype: object\n",
            "0    2\n",
            "1    1\n",
            "2    1\n",
            "3    0\n",
            "4    2\n",
            "Name: Sentiment, dtype: int64\n"
          ]
        }
      ],
      "source": [
        "data['Sentiment']=data.Sentiment.map({'POS':2,'NET':1,'NEG':0})\n",
        "x = data.Tweet\n",
        "y = data.Sentiment\n",
        "print(x.head())\n",
        "print(y.head())"
      ]
    },
    {
      "cell_type": "code",
      "execution_count": null,
      "metadata": {
        "colab": {
          "base_uri": "https://localhost:8080/"
        },
        "id": "nMha4t1v1bFi",
        "outputId": "56f22148-8485-4384-f763-ae1c73b76f57"
      },
      "outputs": [
        {
          "output_type": "execute_result",
          "data": {
            "text/plain": [
              "1    114\n",
              "2     36\n",
              "0     10\n",
              "Name: Sentiment, dtype: int64"
            ]
          },
          "metadata": {},
          "execution_count": 405
        }
      ],
      "source": [
        "y.value_counts()"
      ]
    },
    {
      "cell_type": "code",
      "execution_count": null,
      "metadata": {
        "colab": {
          "base_uri": "https://localhost:8080/"
        },
        "id": "BpTj4PhbDh8J",
        "outputId": "7620a01e-a284-4975-8d1c-9be6bd84b9ec"
      },
      "outputs": [
        {
          "output_type": "execute_result",
          "data": {
            "text/plain": [
              "0    teman kuliah ilmu mengoding tenang ajar banget...\n",
              "1                        materi dqlab baca novel fiksi\n",
              "2           sedih koordinator magang dqlab pamit undur\n",
              "3                                 bootcamp dqlab hadir\n",
              "4                    ngomong-ngomong dqlab seru banget\n",
              "Name: Tweet, dtype: object"
            ]
          },
          "metadata": {},
          "execution_count": 406
        }
      ],
      "source": [
        "x.head()"
      ]
    },
    {
      "cell_type": "code",
      "execution_count": null,
      "metadata": {
        "id": "V2bOxR4YDhL9"
      },
      "outputs": [],
      "source": [
        "x = x.values.astype('U')"
      ]
    },
    {
      "cell_type": "code",
      "execution_count": null,
      "metadata": {
        "id": "2ddU-2PQEaaO"
      },
      "outputs": [],
      "source": [
        "Tfidf_vectorizer = TfidfVectorizer(max_df=1.0, min_df=1, smooth_idf=True).fit(x)\n",
        "tfidf_text = Tfidf_vectorizer.transform(x)"
      ]
    },
    {
      "cell_type": "code",
      "execution_count": null,
      "metadata": {
        "id": "_VG9P3soT0w9"
      },
      "outputs": [],
      "source": [
        "X = Tfidf_vectorizer.fit_transform(x)"
      ]
    },
    {
      "cell_type": "code",
      "execution_count": null,
      "metadata": {
        "id": "qbqdseebUBLJ"
      },
      "outputs": [],
      "source": [
        "feature_names = Tfidf_vectorizer.get_feature_names_out()"
      ]
    },
    {
      "cell_type": "code",
      "execution_count": null,
      "metadata": {
        "id": "gsQIakyBUMnD"
      },
      "outputs": [],
      "source": [
        "def tf_idf(text):\n",
        "  tfidf_matrix = Tfidf_vectorizer.transform([text]).todense()\n",
        "  features_index = X[0,:].nonzero()[1]\n",
        "  skor = zip([feature_names[i] for i in features_index], [X[0,y] for y in features_index])\n",
        "  return dict(skor)"
      ]
    },
    {
      "cell_type": "code",
      "execution_count": null,
      "metadata": {
        "colab": {
          "base_uri": "https://localhost:8080/"
        },
        "id": "Mhujhm4wUlwG",
        "outputId": "66e45ca9-2c7c-4426-afa5-389ca6c9093f"
      },
      "outputs": [
        {
          "output_type": "execute_result",
          "data": {
            "text/plain": [
              "{'ajar': 2.749199854809259,\n",
              " 'banget': 4.13549421592915,\n",
              " 'dasar': 4.982792076316353,\n",
              " 'ilmu': 4.982792076316353,\n",
              " 'kakak': 4.289644895756409,\n",
              " 'kuliah': 4.289644895756409,\n",
              " 'mengoding': 4.982792076316353,\n",
              " 'teman': 3.4423470353692043,\n",
              " 'tenang': 5.388257184424518}"
            ]
          },
          "metadata": {},
          "execution_count": 56
        }
      ],
      "source": [
        "text = 'teman kuliah ilmu mengoding tenang ajar banget dasar kakak'\n",
        "tf_idf(text)"
      ]
    },
    {
      "cell_type": "code",
      "execution_count": null,
      "metadata": {
        "colab": {
          "base_uri": "https://localhost:8080/"
        },
        "id": "iA_7t8l6oEhD",
        "outputId": "0d93b3d4-5804-43f3-cd71-53ad90f1ff0d"
      },
      "outputs": [
        {
          "output_type": "execute_result",
          "data": {
            "text/plain": [
              "array(['academi', 'academy', 'academydqlabid', 'ada', 'adakan', 'adik',\n",
              "       'admin', 'ai', 'airpods', 'ajar', 'akbar', 'akses', 'akun',\n",
              "       'algorithm', 'alih', 'all', 'altera', 'ambil', 'analis', 'analisa',\n",
              "       'analisis', 'analyst', 'anjak', 'anjing', 'april', 'asah', 'asli',\n",
              "       'ass', 'awan', 'baca', 'bagai', 'bagi', 'bagus', 'bahas', 'bahasa',\n",
              "       'bakti', 'balap', 'banding', 'bandung', 'bangalore', 'banget',\n",
              "       'bangun', 'bank', 'bantu', 'banyak', 'barat', 'bareng', 'basis',\n",
              "       'bayar', 'bea', 'beasiswa', 'bebas', 'beda', 'belah', 'belakang',\n",
              "       'beli', 'bentrok', 'bidang', 'binar', 'bingung', 'biru', 'bisa',\n",
              "       'bitdegree', 'blue', 'bogor', 'boot', 'bootcamp', 'buildwithangga',\n",
              "       'buka', 'buku', 'bulan', 'business', 'buta', 'butuh', 'calon',\n",
              "       'camp', 'cantum', 'cari', 'case', 'cek', 'celerates', 'channel',\n",
              "       'class', 'cloud', 'cloudswyft', 'coba', 'codecademy', 'codenya',\n",
              "       'coding', 'codingannya', 'colok', 'compiler', 'confess', 'contoh',\n",
              "       'copy', 'coursera', 'couse', 'cuma', 'curriculum', 'daftar',\n",
              "       'dalam', 'dan', 'dasar', 'dashboard', 'data', 'datacamp', 'daya',\n",
              "       'dear', 'decision', 'dengar', 'depan', 'dicoding', 'digital',\n",
              "       'digitalent', 'diskon', 'diskusi', 'done', 'dq', 'dqlab',\n",
              "       'dqlabbinar', 'dqlabmy', 'dsmldlai', 'duit', 'dukung', 'edukasi',\n",
              "       'eduwork', 'engineer', 'engineering', 'english', 'era', 'error',\n",
              "       'es', 'excel', 'fase', 'fasttrack', 'februari', 'fellowship',\n",
              "       'fiksi', 'fokus', 'freecodecamp', 'fresh', 'fuck', 'gabung',\n",
              "       'gali', 'gampang', 'ganti', 'gantung', 'gara', 'gelap', 'gelar',\n",
              "       'gerak', 'google', 'graduate', 'gratis', 'gulir', 'gunung',\n",
              "       'hackathon', 'hadap', 'hadir', 'harap', 'harga', 'harisenin',\n",
              "       'harisenincom', 'henti', 'hijau', 'hourofcode', 'hujan', 'idola',\n",
              "       'idt', 'ikut', 'ilmu', 'independen', 'indonesia', 'industri',\n",
              "       'informasi', 'insight', 'instagram', 'instagramnya',\n",
              "       'intelligence', 'intensif', 'interaktif', 'iseng', 'iz', 'jabar',\n",
              "       'jadwal', 'jalan', 'jalur', 'jam', 'jangkau', 'javascript',\n",
              "       'jawab', 'jelek', 'jenuh', 'jepit', 'join', 'jujur', 'juni',\n",
              "       'juta', 'kaggle', 'kakak', 'kanker', 'karier', 'kartu', 'kasih',\n",
              "       'kaya', 'kelas', 'kelompok', 'keluarga', 'kemarin', 'kembang',\n",
              "       'kenal', 'kendala', 'keranjang', 'kerja', 'keteter', 'kgi',\n",
              "       'kisar', 'kode', 'koh', 'kolom', 'kominfo', 'kompetensi',\n",
              "       'komunikasi', 'koordinator', 'kosong', 'kotak', 'kriya', 'kuasa',\n",
              "       'kuat', 'kuliah', 'kuning', 'kursus', 'lahir', 'lain', 'langgan',\n",
              "       'lanjut', 'lapor', 'latar', 'latih', 'layak', 'learning',\n",
              "       'lengkap', 'libur', 'linkedin', 'live', 'log', 'lomba', 'luar',\n",
              "       'lumayan', 'lunas', 'lupa', 'maaf', 'macbook', 'machine', 'magang',\n",
              "       'making', 'malas', 'mama', 'mampu', 'manajemen', 'mandiri',\n",
              "       'mantap', 'manusia', 'maret', 'mata', 'materi', 'matplotseaborn',\n",
              "       'mbak', 'media', 'mengoding', 'menteri', 'mentoring', 'metode',\n",
              "       'microsoft', 'milik', 'minat', 'minggu', 'mini', 'mobil', 'mode',\n",
              "       'modul', 'moga', 'mslearn', 'mu', 'muda', 'mula', 'multimedia',\n",
              "       'murah', 'myskill', 'nan', 'nauzubillah', 'ngajak', 'ngoding',\n",
              "       'ngomong', 'ngulik', 'niat', 'nilai', 'novel', 'nuel', 'numpy',\n",
              "       'nusantara', 'online', 'open', 'out', 'paha', 'pain', 'pakai',\n",
              "       'pamit', 'pandas', 'pandora', 'pantau', 'pas', 'paste',\n",
              "       'pemrograman', 'penuh', 'peran', 'perata', 'perempuan', 'perhati',\n",
              "       'permisi', 'persis', 'pertama', 'pilih', 'pindah', 'pintar',\n",
              "       'platform', 'pola', 'porto', 'potong', 'powerbi', 'prakerja',\n",
              "       'praktek', 'praktisi', 'premium', 'proa', 'produksi', 'prof',\n",
              "       'profesional', 'progate', 'program', 'project', 'prom', 'promo',\n",
              "       'proses', 'proyek', 'pu', 'pulih', 'python', 'rakamin', 'rakyat',\n",
              "       'rata', 'ratus', 'real', 'rekomendasi', 'renang', 'reporting',\n",
              "       'resmi', 'review', 'revolusi', 'revou', 'riah', 'ribu', 'riwayat',\n",
              "       'rumah', 'rupiah', 'sabtu', 'salah', 'sales', 'salur', 'sama',\n",
              "       'sanbercode', 'saran', 'science', 'sciense', 'scientist', 'sedia',\n",
              "       'sedih', 'sehat', 'sekolah', 'selesai', 'selesain', 'seluler',\n",
              "       'semarang', 'sembilan', 'sembuh', 'sempat', 'sendiri', 'sentuh',\n",
              "       'serah', 'serta', 'sertifikat', 'seru', 'sesi', 'shift', 'siap',\n",
              "       'silah', 'singkat', 'sinyal', 'siswa', 'situ', 'skilvul',\n",
              "       'sololearn', 'sosial', 'sql', 'statistik', 'statistika', 'status',\n",
              "       'studi', 'studio', 'subscribe', 'suka', 'sulit', 'sumber', 'susah',\n",
              "       'syntax', 'tableau', 'tahu', 'talenta', 'tanggal', 'tante',\n",
              "       'tanya', 'tarik', 'tau', 'team', 'teknis', 'telepon', 'telkomsel',\n",
              "       'tema', 'teman', 'tenang', 'tengah', 'tentu', 'terang', 'terap',\n",
              "       'terima', 'tes', 'test', 'tetris', 'tidak', 'tim', 'time',\n",
              "       'tinggal', 'tingkat', 'todate', 'tokopedia', 'topik',\n",
              "       'transformasi', 'try', 'tuju', 'tumbuh', 'turut', 'uang',\n",
              "       'udacity', 'udemy', 'ugmfess', 'umpat', 'undur', 'universitas',\n",
              "       'untung', 'up', 'versi', 'via', 'virtual', 'visualisasi', 'vit',\n",
              "       'vitae', 'wajib', 'waktu', 'web', 'webnya', 'website', 'well',\n",
              "       'wisuda', 'work', 'wort', 'yeski', 'youtube'], dtype=object)"
            ]
          },
          "metadata": {},
          "execution_count": 57
        }
      ],
      "source": [
        "Tfidf_vectorizer.get_feature_names_out()"
      ]
    },
    {
      "cell_type": "code",
      "execution_count": null,
      "metadata": {
        "colab": {
          "base_uri": "https://localhost:8080/",
          "height": 392
        },
        "id": "ZktBnlgCoJmz",
        "outputId": "79de2efe-43f6-44e1-931a-489d9d2f7c7d"
      },
      "outputs": [
        {
          "output_type": "execute_result",
          "data": {
            "text/plain": [
              "                    D1   D2   D3   D4   D5   D6   D7   D8   D9       D10  ...  \\\n",
              "academi         0.0000  0.0  0.0  0.0  0.0  0.0  0.0  0.0  0.0  0.000000  ...   \n",
              "academy         0.0000  0.0  0.0  0.0  0.0  0.0  0.0  0.0  0.0  4.471966  ...   \n",
              "academydqlabid  0.0000  0.0  0.0  0.0  0.0  0.0  0.0  0.0  0.0  0.000000  ...   \n",
              "ada             0.0000  0.0  0.0  0.0  0.0  0.0  0.0  0.0  0.0  0.000000  ...   \n",
              "adakan          0.0000  0.0  0.0  0.0  0.0  0.0  0.0  0.0  0.0  0.000000  ...   \n",
              "adik            0.0000  0.0  0.0  0.0  0.0  0.0  0.0  0.0  0.0  0.000000  ...   \n",
              "admin           0.0000  0.0  0.0  0.0  0.0  0.0  0.0  0.0  0.0  0.000000  ...   \n",
              "ai              0.0000  0.0  0.0  0.0  0.0  0.0  0.0  0.0  0.0  0.000000  ...   \n",
              "airpods         0.0000  0.0  0.0  0.0  0.0  0.0  0.0  0.0  0.0  0.000000  ...   \n",
              "ajar            2.7492  0.0  0.0  0.0  0.0  0.0  0.0  0.0  0.0  0.000000  ...   \n",
              "\n",
              "                  D151  D152  D153  D154  D155  D156  D157  D158  D159    D160  \n",
              "academi         0.0000   0.0   0.0   0.0   0.0   0.0   0.0   0.0   0.0  0.0000  \n",
              "academy         0.0000   0.0   0.0   0.0   0.0   0.0   0.0   0.0   0.0  0.0000  \n",
              "academydqlabid  0.0000   0.0   0.0   0.0   0.0   0.0   0.0   0.0   0.0  0.0000  \n",
              "ada             0.0000   0.0   0.0   0.0   0.0   0.0   0.0   0.0   0.0  0.0000  \n",
              "adakan          0.0000   0.0   0.0   0.0   0.0   0.0   0.0   0.0   0.0  0.0000  \n",
              "adik            0.0000   0.0   0.0   0.0   0.0   0.0   0.0   0.0   0.0  0.0000  \n",
              "admin           0.0000   0.0   0.0   0.0   0.0   0.0   0.0   0.0   0.0  0.0000  \n",
              "ai              0.0000   0.0   0.0   0.0   0.0   0.0   0.0   0.0   0.0  0.0000  \n",
              "airpods         0.0000   0.0   0.0   0.0   0.0   0.0   0.0   0.0   0.0  0.0000  \n",
              "ajar            2.7492   0.0   0.0   0.0   0.0   0.0   0.0   0.0   0.0  5.4984  \n",
              "\n",
              "[10 rows x 160 columns]"
            ],
            "text/html": [
              "\n",
              "  <div id=\"df-27b89218-bc42-4c1d-857b-0b9558beb403\">\n",
              "    <div class=\"colab-df-container\">\n",
              "      <div>\n",
              "<style scoped>\n",
              "    .dataframe tbody tr th:only-of-type {\n",
              "        vertical-align: middle;\n",
              "    }\n",
              "\n",
              "    .dataframe tbody tr th {\n",
              "        vertical-align: top;\n",
              "    }\n",
              "\n",
              "    .dataframe thead th {\n",
              "        text-align: right;\n",
              "    }\n",
              "</style>\n",
              "<table border=\"1\" class=\"dataframe\">\n",
              "  <thead>\n",
              "    <tr style=\"text-align: right;\">\n",
              "      <th></th>\n",
              "      <th>D1</th>\n",
              "      <th>D2</th>\n",
              "      <th>D3</th>\n",
              "      <th>D4</th>\n",
              "      <th>D5</th>\n",
              "      <th>D6</th>\n",
              "      <th>D7</th>\n",
              "      <th>D8</th>\n",
              "      <th>D9</th>\n",
              "      <th>D10</th>\n",
              "      <th>...</th>\n",
              "      <th>D151</th>\n",
              "      <th>D152</th>\n",
              "      <th>D153</th>\n",
              "      <th>D154</th>\n",
              "      <th>D155</th>\n",
              "      <th>D156</th>\n",
              "      <th>D157</th>\n",
              "      <th>D158</th>\n",
              "      <th>D159</th>\n",
              "      <th>D160</th>\n",
              "    </tr>\n",
              "  </thead>\n",
              "  <tbody>\n",
              "    <tr>\n",
              "      <th>academi</th>\n",
              "      <td>0.0000</td>\n",
              "      <td>0.0</td>\n",
              "      <td>0.0</td>\n",
              "      <td>0.0</td>\n",
              "      <td>0.0</td>\n",
              "      <td>0.0</td>\n",
              "      <td>0.0</td>\n",
              "      <td>0.0</td>\n",
              "      <td>0.0</td>\n",
              "      <td>0.000000</td>\n",
              "      <td>...</td>\n",
              "      <td>0.0000</td>\n",
              "      <td>0.0</td>\n",
              "      <td>0.0</td>\n",
              "      <td>0.0</td>\n",
              "      <td>0.0</td>\n",
              "      <td>0.0</td>\n",
              "      <td>0.0</td>\n",
              "      <td>0.0</td>\n",
              "      <td>0.0</td>\n",
              "      <td>0.0000</td>\n",
              "    </tr>\n",
              "    <tr>\n",
              "      <th>academy</th>\n",
              "      <td>0.0000</td>\n",
              "      <td>0.0</td>\n",
              "      <td>0.0</td>\n",
              "      <td>0.0</td>\n",
              "      <td>0.0</td>\n",
              "      <td>0.0</td>\n",
              "      <td>0.0</td>\n",
              "      <td>0.0</td>\n",
              "      <td>0.0</td>\n",
              "      <td>4.471966</td>\n",
              "      <td>...</td>\n",
              "      <td>0.0000</td>\n",
              "      <td>0.0</td>\n",
              "      <td>0.0</td>\n",
              "      <td>0.0</td>\n",
              "      <td>0.0</td>\n",
              "      <td>0.0</td>\n",
              "      <td>0.0</td>\n",
              "      <td>0.0</td>\n",
              "      <td>0.0</td>\n",
              "      <td>0.0000</td>\n",
              "    </tr>\n",
              "    <tr>\n",
              "      <th>academydqlabid</th>\n",
              "      <td>0.0000</td>\n",
              "      <td>0.0</td>\n",
              "      <td>0.0</td>\n",
              "      <td>0.0</td>\n",
              "      <td>0.0</td>\n",
              "      <td>0.0</td>\n",
              "      <td>0.0</td>\n",
              "      <td>0.0</td>\n",
              "      <td>0.0</td>\n",
              "      <td>0.000000</td>\n",
              "      <td>...</td>\n",
              "      <td>0.0000</td>\n",
              "      <td>0.0</td>\n",
              "      <td>0.0</td>\n",
              "      <td>0.0</td>\n",
              "      <td>0.0</td>\n",
              "      <td>0.0</td>\n",
              "      <td>0.0</td>\n",
              "      <td>0.0</td>\n",
              "      <td>0.0</td>\n",
              "      <td>0.0000</td>\n",
              "    </tr>\n",
              "    <tr>\n",
              "      <th>ada</th>\n",
              "      <td>0.0000</td>\n",
              "      <td>0.0</td>\n",
              "      <td>0.0</td>\n",
              "      <td>0.0</td>\n",
              "      <td>0.0</td>\n",
              "      <td>0.0</td>\n",
              "      <td>0.0</td>\n",
              "      <td>0.0</td>\n",
              "      <td>0.0</td>\n",
              "      <td>0.000000</td>\n",
              "      <td>...</td>\n",
              "      <td>0.0000</td>\n",
              "      <td>0.0</td>\n",
              "      <td>0.0</td>\n",
              "      <td>0.0</td>\n",
              "      <td>0.0</td>\n",
              "      <td>0.0</td>\n",
              "      <td>0.0</td>\n",
              "      <td>0.0</td>\n",
              "      <td>0.0</td>\n",
              "      <td>0.0000</td>\n",
              "    </tr>\n",
              "    <tr>\n",
              "      <th>adakan</th>\n",
              "      <td>0.0000</td>\n",
              "      <td>0.0</td>\n",
              "      <td>0.0</td>\n",
              "      <td>0.0</td>\n",
              "      <td>0.0</td>\n",
              "      <td>0.0</td>\n",
              "      <td>0.0</td>\n",
              "      <td>0.0</td>\n",
              "      <td>0.0</td>\n",
              "      <td>0.000000</td>\n",
              "      <td>...</td>\n",
              "      <td>0.0000</td>\n",
              "      <td>0.0</td>\n",
              "      <td>0.0</td>\n",
              "      <td>0.0</td>\n",
              "      <td>0.0</td>\n",
              "      <td>0.0</td>\n",
              "      <td>0.0</td>\n",
              "      <td>0.0</td>\n",
              "      <td>0.0</td>\n",
              "      <td>0.0000</td>\n",
              "    </tr>\n",
              "    <tr>\n",
              "      <th>adik</th>\n",
              "      <td>0.0000</td>\n",
              "      <td>0.0</td>\n",
              "      <td>0.0</td>\n",
              "      <td>0.0</td>\n",
              "      <td>0.0</td>\n",
              "      <td>0.0</td>\n",
              "      <td>0.0</td>\n",
              "      <td>0.0</td>\n",
              "      <td>0.0</td>\n",
              "      <td>0.000000</td>\n",
              "      <td>...</td>\n",
              "      <td>0.0000</td>\n",
              "      <td>0.0</td>\n",
              "      <td>0.0</td>\n",
              "      <td>0.0</td>\n",
              "      <td>0.0</td>\n",
              "      <td>0.0</td>\n",
              "      <td>0.0</td>\n",
              "      <td>0.0</td>\n",
              "      <td>0.0</td>\n",
              "      <td>0.0000</td>\n",
              "    </tr>\n",
              "    <tr>\n",
              "      <th>admin</th>\n",
              "      <td>0.0000</td>\n",
              "      <td>0.0</td>\n",
              "      <td>0.0</td>\n",
              "      <td>0.0</td>\n",
              "      <td>0.0</td>\n",
              "      <td>0.0</td>\n",
              "      <td>0.0</td>\n",
              "      <td>0.0</td>\n",
              "      <td>0.0</td>\n",
              "      <td>0.000000</td>\n",
              "      <td>...</td>\n",
              "      <td>0.0000</td>\n",
              "      <td>0.0</td>\n",
              "      <td>0.0</td>\n",
              "      <td>0.0</td>\n",
              "      <td>0.0</td>\n",
              "      <td>0.0</td>\n",
              "      <td>0.0</td>\n",
              "      <td>0.0</td>\n",
              "      <td>0.0</td>\n",
              "      <td>0.0000</td>\n",
              "    </tr>\n",
              "    <tr>\n",
              "      <th>ai</th>\n",
              "      <td>0.0000</td>\n",
              "      <td>0.0</td>\n",
              "      <td>0.0</td>\n",
              "      <td>0.0</td>\n",
              "      <td>0.0</td>\n",
              "      <td>0.0</td>\n",
              "      <td>0.0</td>\n",
              "      <td>0.0</td>\n",
              "      <td>0.0</td>\n",
              "      <td>0.000000</td>\n",
              "      <td>...</td>\n",
              "      <td>0.0000</td>\n",
              "      <td>0.0</td>\n",
              "      <td>0.0</td>\n",
              "      <td>0.0</td>\n",
              "      <td>0.0</td>\n",
              "      <td>0.0</td>\n",
              "      <td>0.0</td>\n",
              "      <td>0.0</td>\n",
              "      <td>0.0</td>\n",
              "      <td>0.0000</td>\n",
              "    </tr>\n",
              "    <tr>\n",
              "      <th>airpods</th>\n",
              "      <td>0.0000</td>\n",
              "      <td>0.0</td>\n",
              "      <td>0.0</td>\n",
              "      <td>0.0</td>\n",
              "      <td>0.0</td>\n",
              "      <td>0.0</td>\n",
              "      <td>0.0</td>\n",
              "      <td>0.0</td>\n",
              "      <td>0.0</td>\n",
              "      <td>0.000000</td>\n",
              "      <td>...</td>\n",
              "      <td>0.0000</td>\n",
              "      <td>0.0</td>\n",
              "      <td>0.0</td>\n",
              "      <td>0.0</td>\n",
              "      <td>0.0</td>\n",
              "      <td>0.0</td>\n",
              "      <td>0.0</td>\n",
              "      <td>0.0</td>\n",
              "      <td>0.0</td>\n",
              "      <td>0.0000</td>\n",
              "    </tr>\n",
              "    <tr>\n",
              "      <th>ajar</th>\n",
              "      <td>2.7492</td>\n",
              "      <td>0.0</td>\n",
              "      <td>0.0</td>\n",
              "      <td>0.0</td>\n",
              "      <td>0.0</td>\n",
              "      <td>0.0</td>\n",
              "      <td>0.0</td>\n",
              "      <td>0.0</td>\n",
              "      <td>0.0</td>\n",
              "      <td>0.000000</td>\n",
              "      <td>...</td>\n",
              "      <td>2.7492</td>\n",
              "      <td>0.0</td>\n",
              "      <td>0.0</td>\n",
              "      <td>0.0</td>\n",
              "      <td>0.0</td>\n",
              "      <td>0.0</td>\n",
              "      <td>0.0</td>\n",
              "      <td>0.0</td>\n",
              "      <td>0.0</td>\n",
              "      <td>5.4984</td>\n",
              "    </tr>\n",
              "  </tbody>\n",
              "</table>\n",
              "<p>10 rows × 160 columns</p>\n",
              "</div>\n",
              "      <button class=\"colab-df-convert\" onclick=\"convertToInteractive('df-27b89218-bc42-4c1d-857b-0b9558beb403')\"\n",
              "              title=\"Convert this dataframe to an interactive table.\"\n",
              "              style=\"display:none;\">\n",
              "        \n",
              "  <svg xmlns=\"http://www.w3.org/2000/svg\" height=\"24px\"viewBox=\"0 0 24 24\"\n",
              "       width=\"24px\">\n",
              "    <path d=\"M0 0h24v24H0V0z\" fill=\"none\"/>\n",
              "    <path d=\"M18.56 5.44l.94 2.06.94-2.06 2.06-.94-2.06-.94-.94-2.06-.94 2.06-2.06.94zm-11 1L8.5 8.5l.94-2.06 2.06-.94-2.06-.94L8.5 2.5l-.94 2.06-2.06.94zm10 10l.94 2.06.94-2.06 2.06-.94-2.06-.94-.94-2.06-.94 2.06-2.06.94z\"/><path d=\"M17.41 7.96l-1.37-1.37c-.4-.4-.92-.59-1.43-.59-.52 0-1.04.2-1.43.59L10.3 9.45l-7.72 7.72c-.78.78-.78 2.05 0 2.83L4 21.41c.39.39.9.59 1.41.59.51 0 1.02-.2 1.41-.59l7.78-7.78 2.81-2.81c.8-.78.8-2.07 0-2.86zM5.41 20L4 18.59l7.72-7.72 1.47 1.35L5.41 20z\"/>\n",
              "  </svg>\n",
              "      </button>\n",
              "      \n",
              "  <style>\n",
              "    .colab-df-container {\n",
              "      display:flex;\n",
              "      flex-wrap:wrap;\n",
              "      gap: 12px;\n",
              "    }\n",
              "\n",
              "    .colab-df-convert {\n",
              "      background-color: #E8F0FE;\n",
              "      border: none;\n",
              "      border-radius: 50%;\n",
              "      cursor: pointer;\n",
              "      display: none;\n",
              "      fill: #1967D2;\n",
              "      height: 32px;\n",
              "      padding: 0 0 0 0;\n",
              "      width: 32px;\n",
              "    }\n",
              "\n",
              "    .colab-df-convert:hover {\n",
              "      background-color: #E2EBFA;\n",
              "      box-shadow: 0px 1px 2px rgba(60, 64, 67, 0.3), 0px 1px 3px 1px rgba(60, 64, 67, 0.15);\n",
              "      fill: #174EA6;\n",
              "    }\n",
              "\n",
              "    [theme=dark] .colab-df-convert {\n",
              "      background-color: #3B4455;\n",
              "      fill: #D2E3FC;\n",
              "    }\n",
              "\n",
              "    [theme=dark] .colab-df-convert:hover {\n",
              "      background-color: #434B5C;\n",
              "      box-shadow: 0px 1px 3px 1px rgba(0, 0, 0, 0.15);\n",
              "      filter: drop-shadow(0px 1px 2px rgba(0, 0, 0, 0.3));\n",
              "      fill: #FFFFFF;\n",
              "    }\n",
              "  </style>\n",
              "\n",
              "      <script>\n",
              "        const buttonEl =\n",
              "          document.querySelector('#df-27b89218-bc42-4c1d-857b-0b9558beb403 button.colab-df-convert');\n",
              "        buttonEl.style.display =\n",
              "          google.colab.kernel.accessAllowed ? 'block' : 'none';\n",
              "\n",
              "        async function convertToInteractive(key) {\n",
              "          const element = document.querySelector('#df-27b89218-bc42-4c1d-857b-0b9558beb403');\n",
              "          const dataTable =\n",
              "            await google.colab.kernel.invokeFunction('convertToInteractive',\n",
              "                                                     [key], {});\n",
              "          if (!dataTable) return;\n",
              "\n",
              "          const docLinkHtml = 'Like what you see? Visit the ' +\n",
              "            '<a target=\"_blank\" href=https://colab.research.google.com/notebooks/data_table.ipynb>data table notebook</a>'\n",
              "            + ' to learn more about interactive tables.';\n",
              "          element.innerHTML = '';\n",
              "          dataTable['output_type'] = 'display_data';\n",
              "          await google.colab.output.renderOutput(dataTable, element);\n",
              "          const docLink = document.createElement('div');\n",
              "          docLink.innerHTML = docLinkHtml;\n",
              "          element.appendChild(docLink);\n",
              "        }\n",
              "      </script>\n",
              "    </div>\n",
              "  </div>\n",
              "  "
            ]
          },
          "metadata": {},
          "execution_count": 58
        }
      ],
      "source": [
        "df = pd.DataFrame(tfidf_text.todense().T,\n",
        "                  index = Tfidf_vectorizer.get_feature_names_out(),\n",
        "                  columns = [f'D{i+1}' for i in range(len(x))])\n",
        "\n",
        "df.head(10)"
      ]
    },
    {
      "cell_type": "code",
      "execution_count": null,
      "metadata": {
        "colab": {
          "base_uri": "https://localhost:8080/"
        },
        "id": "3KjMwVJPkMHS",
        "outputId": "c3d79da1-c7df-466c-92ec-72157180a0a0"
      },
      "outputs": [
        {
          "output_type": "stream",
          "name": "stdout",
          "text": [
            "  (0, 429)\t0.4052005729303355\n",
            "  (0, 428)\t0.2588668178253664\n",
            "  (0, 269)\t0.37470932344365465\n",
            "  (0, 229)\t0.3225841881587595\n",
            "  (0, 199)\t0.3225841881587595\n",
            "  (0, 170)\t0.37470932344365465\n",
            "  (0, 102)\t0.37470932344365465\n",
            "  (0, 40)\t0.3109919531102617\n",
            "  (0, 9)\t0.20674168254047123\n",
            "  (1, 297)\t0.5643383519453289\n",
            "  (1, 265)\t0.3231774288271193\n",
            "  (1, 137)\t0.5643383519453289\n",
            "  (1, 118)\t0.12957977618066244\n",
            "  (1, 29)\t0.49174168030473253\n",
            "  (2, 456)\t0.4592409064494532\n",
            "  (2, 376)\t0.4592409064494532\n",
            "  (2, 307)\t0.4592409064494532\n",
            "  (2, 254)\t0.38114549045975366\n",
            "  (2, 223)\t0.4592409064494532\n",
            "  (2, 118)\t0.10544797046947758\n",
            "  (3, 158)\t0.7451917855223995\n",
            "  (3, 118)\t0.23736392321378108\n",
            "  (3, 66)\t0.623175393245353\n",
            "  (4, 391)\t0.4210095070081653\n",
            "  (4, 293)\t0.8420190140163306\n",
            "  :\t:\n",
            "  (157, 85)\t0.4192838156135854\n",
            "  (158, 453)\t0.6273395838513249\n",
            "  (158, 338)\t0.748245725946967\n",
            "  (158, 118)\t0.21580866557055237\n",
            "  (159, 452)\t0.2437949575315685\n",
            "  (159, 433)\t0.2437949575315685\n",
            "  (159, 400)\t0.2437949575315685\n",
            "  (159, 371)\t0.22544944330899147\n",
            "  (159, 366)\t0.2023368287864225\n",
            "  (159, 350)\t0.2437949575315685\n",
            "  (159, 322)\t0.2437949575315685\n",
            "  (159, 265)\t0.13961310136813432\n",
            "  (159, 253)\t0.21243309382242437\n",
            "  (159, 240)\t0.21243309382242437\n",
            "  (159, 153)\t0.12774227142732392\n",
            "  (159, 151)\t0.21243309382242437\n",
            "  (159, 118)\t0.05597864458798144\n",
            "  (159, 85)\t0.2838677950355429\n",
            "  (159, 83)\t0.2437949575315685\n",
            "  (159, 78)\t0.22544944330899147\n",
            "  (159, 69)\t0.22544944330899147\n",
            "  (159, 48)\t0.18107123011328027\n",
            "  (159, 26)\t0.2437949575315685\n",
            "  (159, 17)\t0.2023368287864225\n",
            "  (159, 9)\t0.24877842274731782\n"
          ]
        }
      ],
      "source": [
        "print(tfidf_text)"
      ]
    },
    {
      "cell_type": "code",
      "execution_count": null,
      "metadata": {
        "id": "M1_Jv9qGEdQU"
      },
      "outputs": [],
      "source": [
        "from sklearn.model_selection import train_test_split\n",
        "x_train, x_test, y_train, y_test = train_test_split(tfidf_text,y,test_size= 0.30, random_state=0)"
      ]
    },
    {
      "cell_type": "code",
      "execution_count": null,
      "metadata": {
        "id": "ZWcxJTSBDO7A"
      },
      "outputs": [],
      "source": [
        "from sklearn.svm import SVC\n",
        "svc = SVC()\n",
        "svc.fit(x_train,y_train)\n",
        "y_predict = svc.predict(x_test)"
      ]
    },
    {
      "cell_type": "code",
      "execution_count": null,
      "metadata": {
        "colab": {
          "base_uri": "https://localhost:8080/",
          "height": 192
        },
        "id": "7CMI_BnpFS7c",
        "outputId": "35a88b47-f9c0-49f2-fcfa-a574dfea1a37"
      },
      "outputs": [
        {
          "output_type": "stream",
          "name": "stdout",
          "text": [
            "0.75\n"
          ]
        },
        {
          "output_type": "execute_result",
          "data": {
            "text/plain": [
              "col_0       1  2\n",
              "Sentiment       \n",
              "0           2  0\n",
              "1          36  3\n",
              "2           7  0"
            ],
            "text/html": [
              "\n",
              "  <div id=\"df-6a6d9471-9822-4dc9-865f-024bc5f84787\">\n",
              "    <div class=\"colab-df-container\">\n",
              "      <div>\n",
              "<style scoped>\n",
              "    .dataframe tbody tr th:only-of-type {\n",
              "        vertical-align: middle;\n",
              "    }\n",
              "\n",
              "    .dataframe tbody tr th {\n",
              "        vertical-align: top;\n",
              "    }\n",
              "\n",
              "    .dataframe thead th {\n",
              "        text-align: right;\n",
              "    }\n",
              "</style>\n",
              "<table border=\"1\" class=\"dataframe\">\n",
              "  <thead>\n",
              "    <tr style=\"text-align: right;\">\n",
              "      <th>col_0</th>\n",
              "      <th>1</th>\n",
              "      <th>2</th>\n",
              "    </tr>\n",
              "    <tr>\n",
              "      <th>Sentiment</th>\n",
              "      <th></th>\n",
              "      <th></th>\n",
              "    </tr>\n",
              "  </thead>\n",
              "  <tbody>\n",
              "    <tr>\n",
              "      <th>0</th>\n",
              "      <td>2</td>\n",
              "      <td>0</td>\n",
              "    </tr>\n",
              "    <tr>\n",
              "      <th>1</th>\n",
              "      <td>36</td>\n",
              "      <td>3</td>\n",
              "    </tr>\n",
              "    <tr>\n",
              "      <th>2</th>\n",
              "      <td>7</td>\n",
              "      <td>0</td>\n",
              "    </tr>\n",
              "  </tbody>\n",
              "</table>\n",
              "</div>\n",
              "      <button class=\"colab-df-convert\" onclick=\"convertToInteractive('df-6a6d9471-9822-4dc9-865f-024bc5f84787')\"\n",
              "              title=\"Convert this dataframe to an interactive table.\"\n",
              "              style=\"display:none;\">\n",
              "        \n",
              "  <svg xmlns=\"http://www.w3.org/2000/svg\" height=\"24px\"viewBox=\"0 0 24 24\"\n",
              "       width=\"24px\">\n",
              "    <path d=\"M0 0h24v24H0V0z\" fill=\"none\"/>\n",
              "    <path d=\"M18.56 5.44l.94 2.06.94-2.06 2.06-.94-2.06-.94-.94-2.06-.94 2.06-2.06.94zm-11 1L8.5 8.5l.94-2.06 2.06-.94-2.06-.94L8.5 2.5l-.94 2.06-2.06.94zm10 10l.94 2.06.94-2.06 2.06-.94-2.06-.94-.94-2.06-.94 2.06-2.06.94z\"/><path d=\"M17.41 7.96l-1.37-1.37c-.4-.4-.92-.59-1.43-.59-.52 0-1.04.2-1.43.59L10.3 9.45l-7.72 7.72c-.78.78-.78 2.05 0 2.83L4 21.41c.39.39.9.59 1.41.59.51 0 1.02-.2 1.41-.59l7.78-7.78 2.81-2.81c.8-.78.8-2.07 0-2.86zM5.41 20L4 18.59l7.72-7.72 1.47 1.35L5.41 20z\"/>\n",
              "  </svg>\n",
              "      </button>\n",
              "      \n",
              "  <style>\n",
              "    .colab-df-container {\n",
              "      display:flex;\n",
              "      flex-wrap:wrap;\n",
              "      gap: 12px;\n",
              "    }\n",
              "\n",
              "    .colab-df-convert {\n",
              "      background-color: #E8F0FE;\n",
              "      border: none;\n",
              "      border-radius: 50%;\n",
              "      cursor: pointer;\n",
              "      display: none;\n",
              "      fill: #1967D2;\n",
              "      height: 32px;\n",
              "      padding: 0 0 0 0;\n",
              "      width: 32px;\n",
              "    }\n",
              "\n",
              "    .colab-df-convert:hover {\n",
              "      background-color: #E2EBFA;\n",
              "      box-shadow: 0px 1px 2px rgba(60, 64, 67, 0.3), 0px 1px 3px 1px rgba(60, 64, 67, 0.15);\n",
              "      fill: #174EA6;\n",
              "    }\n",
              "\n",
              "    [theme=dark] .colab-df-convert {\n",
              "      background-color: #3B4455;\n",
              "      fill: #D2E3FC;\n",
              "    }\n",
              "\n",
              "    [theme=dark] .colab-df-convert:hover {\n",
              "      background-color: #434B5C;\n",
              "      box-shadow: 0px 1px 3px 1px rgba(0, 0, 0, 0.15);\n",
              "      filter: drop-shadow(0px 1px 2px rgba(0, 0, 0, 0.3));\n",
              "      fill: #FFFFFF;\n",
              "    }\n",
              "  </style>\n",
              "\n",
              "      <script>\n",
              "        const buttonEl =\n",
              "          document.querySelector('#df-6a6d9471-9822-4dc9-865f-024bc5f84787 button.colab-df-convert');\n",
              "        buttonEl.style.display =\n",
              "          google.colab.kernel.accessAllowed ? 'block' : 'none';\n",
              "\n",
              "        async function convertToInteractive(key) {\n",
              "          const element = document.querySelector('#df-6a6d9471-9822-4dc9-865f-024bc5f84787');\n",
              "          const dataTable =\n",
              "            await google.colab.kernel.invokeFunction('convertToInteractive',\n",
              "                                                     [key], {});\n",
              "          if (!dataTable) return;\n",
              "\n",
              "          const docLinkHtml = 'Like what you see? Visit the ' +\n",
              "            '<a target=\"_blank\" href=https://colab.research.google.com/notebooks/data_table.ipynb>data table notebook</a>'\n",
              "            + ' to learn more about interactive tables.';\n",
              "          element.innerHTML = '';\n",
              "          dataTable['output_type'] = 'display_data';\n",
              "          await google.colab.output.renderOutput(dataTable, element);\n",
              "          const docLink = document.createElement('div');\n",
              "          docLink.innerHTML = docLinkHtml;\n",
              "          element.appendChild(docLink);\n",
              "        }\n",
              "      </script>\n",
              "    </div>\n",
              "  </div>\n",
              "  "
            ]
          },
          "metadata": {},
          "execution_count": 425
        }
      ],
      "source": [
        "from sklearn.metrics import accuracy_score\n",
        "print(accuracy_score(y_test,y_predict))\n",
        "pd.crosstab(y_test,y_predict)"
      ]
    },
    {
      "cell_type": "code",
      "execution_count": null,
      "metadata": {
        "colab": {
          "base_uri": "https://localhost:8080/"
        },
        "id": "0ai4KEo2GxpI",
        "outputId": "18dde590-62d7-42e4-c25c-5fb932fab434"
      },
      "outputs": [
        {
          "output_type": "stream",
          "name": "stdout",
          "text": [
            "Looking in indexes: https://pypi.org/simple, https://us-python.pkg.dev/colab-wheels/public/simple/\n",
            "Requirement already satisfied: imblearn in /usr/local/lib/python3.7/dist-packages (0.0)\n",
            "Requirement already satisfied: imbalanced-learn in /usr/local/lib/python3.7/dist-packages (from imblearn) (0.8.1)\n",
            "Requirement already satisfied: numpy>=1.13.3 in /usr/local/lib/python3.7/dist-packages (from imbalanced-learn->imblearn) (1.21.6)\n",
            "Requirement already satisfied: joblib>=0.11 in /usr/local/lib/python3.7/dist-packages (from imbalanced-learn->imblearn) (1.1.0)\n",
            "Requirement already satisfied: scikit-learn>=0.24 in /usr/local/lib/python3.7/dist-packages (from imbalanced-learn->imblearn) (1.0.2)\n",
            "Requirement already satisfied: scipy>=0.19.1 in /usr/local/lib/python3.7/dist-packages (from imbalanced-learn->imblearn) (1.4.1)\n",
            "Requirement already satisfied: threadpoolctl>=2.0.0 in /usr/local/lib/python3.7/dist-packages (from scikit-learn>=0.24->imbalanced-learn->imblearn) (3.1.0)\n"
          ]
        }
      ],
      "source": [
        "pip install imblearn"
      ]
    },
    {
      "cell_type": "code",
      "execution_count": null,
      "metadata": {
        "id": "u7NrXjJlG317"
      },
      "outputs": [],
      "source": [
        "from imblearn.over_sampling import SMOTE\n",
        "smote = SMOTE()"
      ]
    },
    {
      "cell_type": "code",
      "execution_count": null,
      "metadata": {
        "id": "2NNHXKRrG-yw"
      },
      "outputs": [],
      "source": [
        "x_train_smote, y_train_smote = smote.fit_resample(x_train,y_train)"
      ]
    },
    {
      "cell_type": "code",
      "execution_count": null,
      "metadata": {
        "colab": {
          "base_uri": "https://localhost:8080/"
        },
        "id": "1G_04OlBHLws",
        "outputId": "fd0585fc-2303-4782-f059-8c2425e04418"
      },
      "outputs": [
        {
          "output_type": "stream",
          "name": "stdout",
          "text": [
            "Before SMOTE:  Counter({1: 75, 2: 29, 0: 8})\n",
            "After SMOTE:  Counter({1: 75, 2: 75, 0: 75})\n"
          ]
        }
      ],
      "source": [
        "from collections import Counter\n",
        "print('Before SMOTE: ', Counter(y_train))\n",
        "print('After SMOTE: ', Counter(y_train_smote))"
      ]
    },
    {
      "cell_type": "code",
      "execution_count": null,
      "metadata": {
        "colab": {
          "base_uri": "https://localhost:8080/",
          "height": 192
        },
        "id": "M-Bo_9qkHsO9",
        "outputId": "81b859ae-d42b-433e-9ad1-1df9a926d6dc"
      },
      "outputs": [
        {
          "output_type": "stream",
          "name": "stdout",
          "text": [
            "0.7708333333333334\n"
          ]
        },
        {
          "output_type": "execute_result",
          "data": {
            "text/plain": [
              "col_0       1  2\n",
              "Sentiment       \n",
              "0           2  0\n",
              "1          36  3\n",
              "2           6  1"
            ],
            "text/html": [
              "\n",
              "  <div id=\"df-4a6f1c69-657a-4bd4-8dd5-93d5c9d8a8b4\">\n",
              "    <div class=\"colab-df-container\">\n",
              "      <div>\n",
              "<style scoped>\n",
              "    .dataframe tbody tr th:only-of-type {\n",
              "        vertical-align: middle;\n",
              "    }\n",
              "\n",
              "    .dataframe tbody tr th {\n",
              "        vertical-align: top;\n",
              "    }\n",
              "\n",
              "    .dataframe thead th {\n",
              "        text-align: right;\n",
              "    }\n",
              "</style>\n",
              "<table border=\"1\" class=\"dataframe\">\n",
              "  <thead>\n",
              "    <tr style=\"text-align: right;\">\n",
              "      <th>col_0</th>\n",
              "      <th>1</th>\n",
              "      <th>2</th>\n",
              "    </tr>\n",
              "    <tr>\n",
              "      <th>Sentiment</th>\n",
              "      <th></th>\n",
              "      <th></th>\n",
              "    </tr>\n",
              "  </thead>\n",
              "  <tbody>\n",
              "    <tr>\n",
              "      <th>0</th>\n",
              "      <td>2</td>\n",
              "      <td>0</td>\n",
              "    </tr>\n",
              "    <tr>\n",
              "      <th>1</th>\n",
              "      <td>36</td>\n",
              "      <td>3</td>\n",
              "    </tr>\n",
              "    <tr>\n",
              "      <th>2</th>\n",
              "      <td>6</td>\n",
              "      <td>1</td>\n",
              "    </tr>\n",
              "  </tbody>\n",
              "</table>\n",
              "</div>\n",
              "      <button class=\"colab-df-convert\" onclick=\"convertToInteractive('df-4a6f1c69-657a-4bd4-8dd5-93d5c9d8a8b4')\"\n",
              "              title=\"Convert this dataframe to an interactive table.\"\n",
              "              style=\"display:none;\">\n",
              "        \n",
              "  <svg xmlns=\"http://www.w3.org/2000/svg\" height=\"24px\"viewBox=\"0 0 24 24\"\n",
              "       width=\"24px\">\n",
              "    <path d=\"M0 0h24v24H0V0z\" fill=\"none\"/>\n",
              "    <path d=\"M18.56 5.44l.94 2.06.94-2.06 2.06-.94-2.06-.94-.94-2.06-.94 2.06-2.06.94zm-11 1L8.5 8.5l.94-2.06 2.06-.94-2.06-.94L8.5 2.5l-.94 2.06-2.06.94zm10 10l.94 2.06.94-2.06 2.06-.94-2.06-.94-.94-2.06-.94 2.06-2.06.94z\"/><path d=\"M17.41 7.96l-1.37-1.37c-.4-.4-.92-.59-1.43-.59-.52 0-1.04.2-1.43.59L10.3 9.45l-7.72 7.72c-.78.78-.78 2.05 0 2.83L4 21.41c.39.39.9.59 1.41.59.51 0 1.02-.2 1.41-.59l7.78-7.78 2.81-2.81c.8-.78.8-2.07 0-2.86zM5.41 20L4 18.59l7.72-7.72 1.47 1.35L5.41 20z\"/>\n",
              "  </svg>\n",
              "      </button>\n",
              "      \n",
              "  <style>\n",
              "    .colab-df-container {\n",
              "      display:flex;\n",
              "      flex-wrap:wrap;\n",
              "      gap: 12px;\n",
              "    }\n",
              "\n",
              "    .colab-df-convert {\n",
              "      background-color: #E8F0FE;\n",
              "      border: none;\n",
              "      border-radius: 50%;\n",
              "      cursor: pointer;\n",
              "      display: none;\n",
              "      fill: #1967D2;\n",
              "      height: 32px;\n",
              "      padding: 0 0 0 0;\n",
              "      width: 32px;\n",
              "    }\n",
              "\n",
              "    .colab-df-convert:hover {\n",
              "      background-color: #E2EBFA;\n",
              "      box-shadow: 0px 1px 2px rgba(60, 64, 67, 0.3), 0px 1px 3px 1px rgba(60, 64, 67, 0.15);\n",
              "      fill: #174EA6;\n",
              "    }\n",
              "\n",
              "    [theme=dark] .colab-df-convert {\n",
              "      background-color: #3B4455;\n",
              "      fill: #D2E3FC;\n",
              "    }\n",
              "\n",
              "    [theme=dark] .colab-df-convert:hover {\n",
              "      background-color: #434B5C;\n",
              "      box-shadow: 0px 1px 3px 1px rgba(0, 0, 0, 0.15);\n",
              "      filter: drop-shadow(0px 1px 2px rgba(0, 0, 0, 0.3));\n",
              "      fill: #FFFFFF;\n",
              "    }\n",
              "  </style>\n",
              "\n",
              "      <script>\n",
              "        const buttonEl =\n",
              "          document.querySelector('#df-4a6f1c69-657a-4bd4-8dd5-93d5c9d8a8b4 button.colab-df-convert');\n",
              "        buttonEl.style.display =\n",
              "          google.colab.kernel.accessAllowed ? 'block' : 'none';\n",
              "\n",
              "        async function convertToInteractive(key) {\n",
              "          const element = document.querySelector('#df-4a6f1c69-657a-4bd4-8dd5-93d5c9d8a8b4');\n",
              "          const dataTable =\n",
              "            await google.colab.kernel.invokeFunction('convertToInteractive',\n",
              "                                                     [key], {});\n",
              "          if (!dataTable) return;\n",
              "\n",
              "          const docLinkHtml = 'Like what you see? Visit the ' +\n",
              "            '<a target=\"_blank\" href=https://colab.research.google.com/notebooks/data_table.ipynb>data table notebook</a>'\n",
              "            + ' to learn more about interactive tables.';\n",
              "          element.innerHTML = '';\n",
              "          dataTable['output_type'] = 'display_data';\n",
              "          await google.colab.output.renderOutput(dataTable, element);\n",
              "          const docLink = document.createElement('div');\n",
              "          docLink.innerHTML = docLinkHtml;\n",
              "          element.appendChild(docLink);\n",
              "        }\n",
              "      </script>\n",
              "    </div>\n",
              "  </div>\n",
              "  "
            ]
          },
          "metadata": {},
          "execution_count": 434
        }
      ],
      "source": [
        "svc1 = SVC().fit(x_train_smote,y_train_smote)\n",
        "svc_predict = svc1.predict(x_test)\n",
        "print(accuracy_score(y_test,svc_predict))\n",
        "pd.crosstab(y_test,svc_predict)"
      ]
    },
    {
      "cell_type": "code",
      "execution_count": null,
      "metadata": {
        "id": "e2K9CJ25Inb2"
      },
      "outputs": [],
      "source": [
        "from sklearn.metrics import classification_report"
      ]
    },
    {
      "cell_type": "code",
      "execution_count": null,
      "metadata": {
        "id": "wRP1MJMvI4uA"
      },
      "outputs": [],
      "source": [
        "model = SVC().fit(x_train_smote,y_train_smote)"
      ]
    },
    {
      "cell_type": "code",
      "execution_count": null,
      "metadata": {
        "id": "HheafA7qEiD0"
      },
      "outputs": [],
      "source": [
        "model1 = SVC().fit(x_train,y_train)"
      ]
    },
    {
      "cell_type": "code",
      "execution_count": null,
      "metadata": {
        "colab": {
          "base_uri": "https://localhost:8080/"
        },
        "id": "hPtUM5ssEnRT",
        "outputId": "716d47b3-b965-4b03-e33c-b7210dfd4c6c"
      },
      "outputs": [
        {
          "output_type": "stream",
          "name": "stdout",
          "text": [
            "              precision    recall  f1-score   support\n",
            "\n",
            "           0       0.17      1.00      0.29         1\n",
            "           1       0.95      0.83      0.89        42\n",
            "           2       0.60      0.60      0.60         5\n",
            "\n",
            "    accuracy                           0.81        48\n",
            "   macro avg       0.57      0.81      0.59        48\n",
            "weighted avg       0.89      0.81      0.84        48\n",
            "\n"
          ]
        }
      ],
      "source": [
        "pred_svm_1 = model1.predict(x_test)\n",
        "print(classification_report(pred_svm_1,y_test))"
      ]
    },
    {
      "cell_type": "code",
      "execution_count": null,
      "metadata": {
        "colab": {
          "base_uri": "https://localhost:8080/"
        },
        "id": "oqVGzpnRI_Na",
        "outputId": "cc1b21ee-3caa-4cce-b748-398b818b27ed"
      },
      "outputs": [
        {
          "output_type": "stream",
          "name": "stdout",
          "text": [
            "              precision    recall  f1-score   support\n",
            "\n",
            "           0       0.67      1.00      0.80         4\n",
            "           1       0.95      0.90      0.92        39\n",
            "           2       0.60      0.60      0.60         5\n",
            "\n",
            "    accuracy                           0.88        48\n",
            "   macro avg       0.74      0.83      0.77        48\n",
            "weighted avg       0.89      0.88      0.88        48\n",
            "\n"
          ]
        }
      ],
      "source": [
        "pred_svm = model.predict(x_test)\n",
        "print(classification_report(pred_svm, y_test))"
      ]
    },
    {
      "cell_type": "code",
      "execution_count": null,
      "metadata": {
        "colab": {
          "base_uri": "https://localhost:8080/"
        },
        "id": "rmsD-PpI4Br4",
        "outputId": "e84cd83e-e1d1-4162-8eef-d1ca3e7dc2eb"
      },
      "outputs": [
        {
          "output_type": "execute_result",
          "data": {
            "text/plain": [
              "0.8324786324786325"
            ]
          },
          "metadata": {},
          "execution_count": 443
        }
      ],
      "source": [
        "from sklearn.metrics import balanced_accuracy_score\n",
        "balanced_accuracy_score(pred_svm, y_test)"
      ]
    },
    {
      "cell_type": "code",
      "execution_count": null,
      "metadata": {
        "colab": {
          "base_uri": "https://localhost:8080/"
        },
        "id": "fMwQ16T-JXHk",
        "outputId": "6cbc7725-9659-4260-a354-42880be37e2d"
      },
      "outputs": [
        {
          "output_type": "execute_result",
          "data": {
            "text/plain": [
              "array([1, 2, 1, 1, 1, 2, 0, 1, 1, 1, 1, 1, 1, 1, 1, 1, 1, 1, 1, 2, 1, 1,\n",
              "       1, 1, 1, 1, 1, 1, 1, 0, 1, 1, 1, 2, 1, 0, 1, 1, 1, 0, 1, 1, 1, 1,\n",
              "       2, 1, 1, 1])"
            ]
          },
          "metadata": {},
          "execution_count": 444
        }
      ],
      "source": [
        "pred_svm "
      ]
    },
    {
      "cell_type": "code",
      "execution_count": null,
      "metadata": {
        "id": "7TPNNSFFJhXW"
      },
      "outputs": [],
      "source": [
        "from sklearn.naive_bayes import MultinomialNB"
      ]
    },
    {
      "cell_type": "code",
      "execution_count": null,
      "metadata": {
        "id": "MzZodF4pJ7jy"
      },
      "outputs": [],
      "source": [
        "nbc = MultinomialNB().fit(x_train_smote, y_train_smote)"
      ]
    },
    {
      "cell_type": "code",
      "execution_count": null,
      "metadata": {
        "id": "8Kd-6nMyE2vK"
      },
      "outputs": [],
      "source": [
        "nbc1 = MultinomialNB().fit(x_train, y_train)"
      ]
    },
    {
      "cell_type": "code",
      "execution_count": null,
      "metadata": {
        "colab": {
          "base_uri": "https://localhost:8080/"
        },
        "id": "lpJ28h8wE8N4",
        "outputId": "a17ad1e7-f8ce-49d8-fa3d-fb68c4d96fd1"
      },
      "outputs": [
        {
          "output_type": "stream",
          "name": "stdout",
          "text": [
            "              precision    recall  f1-score   support\n",
            "\n",
            "           0       0.00      0.00      0.00         0\n",
            "           1       1.00      0.80      0.89        46\n",
            "           2       0.40      1.00      0.57         2\n",
            "\n",
            "    accuracy                           0.81        48\n",
            "   macro avg       0.47      0.60      0.49        48\n",
            "weighted avg       0.97      0.81      0.88        48\n",
            "\n"
          ]
        },
        {
          "output_type": "stream",
          "name": "stderr",
          "text": [
            "/usr/local/lib/python3.7/dist-packages/sklearn/metrics/_classification.py:1318: UndefinedMetricWarning: Recall and F-score are ill-defined and being set to 0.0 in labels with no true samples. Use `zero_division` parameter to control this behavior.\n",
            "  _warn_prf(average, modifier, msg_start, len(result))\n",
            "/usr/local/lib/python3.7/dist-packages/sklearn/metrics/_classification.py:1318: UndefinedMetricWarning: Recall and F-score are ill-defined and being set to 0.0 in labels with no true samples. Use `zero_division` parameter to control this behavior.\n",
            "  _warn_prf(average, modifier, msg_start, len(result))\n",
            "/usr/local/lib/python3.7/dist-packages/sklearn/metrics/_classification.py:1318: UndefinedMetricWarning: Recall and F-score are ill-defined and being set to 0.0 in labels with no true samples. Use `zero_division` parameter to control this behavior.\n",
            "  _warn_prf(average, modifier, msg_start, len(result))\n"
          ]
        }
      ],
      "source": [
        "pred_nbc_1 = nbc1.predict(x_test)\n",
        "print(classification_report(pred_nbc_1, y_test))"
      ]
    },
    {
      "cell_type": "code",
      "execution_count": null,
      "metadata": {
        "colab": {
          "base_uri": "https://localhost:8080/"
        },
        "id": "AA5mg672KCYO",
        "outputId": "4dc346e6-b09b-4a04-88b5-04c22b01b37d"
      },
      "outputs": [
        {
          "output_type": "stream",
          "name": "stdout",
          "text": [
            "              precision    recall  f1-score   support\n",
            "\n",
            "           0       0.83      0.71      0.77         7\n",
            "           1       0.70      0.96      0.81        27\n",
            "           2       1.00      0.36      0.53        14\n",
            "\n",
            "    accuracy                           0.75        48\n",
            "   macro avg       0.85      0.68      0.70        48\n",
            "weighted avg       0.81      0.75      0.72        48\n",
            "\n"
          ]
        }
      ],
      "source": [
        "pred_nbc = nbc.predict(x_test)\n",
        "print(classification_report(pred_nbc, y_test))"
      ]
    },
    {
      "cell_type": "code",
      "execution_count": null,
      "metadata": {
        "colab": {
          "base_uri": "https://localhost:8080/"
        },
        "id": "_QD80c8Y4KuX",
        "outputId": "4b879ffa-2486-4c13-84ef-ce3e10b49f47"
      },
      "outputs": [
        {
          "output_type": "execute_result",
          "data": {
            "text/plain": [
              "0.6781305114638448"
            ]
          },
          "metadata": {},
          "execution_count": 482
        }
      ],
      "source": [
        "from sklearn.metrics import balanced_accuracy_score\n",
        "balanced_accuracy_score(pred_nbc, y_test)"
      ]
    },
    {
      "cell_type": "code",
      "execution_count": null,
      "metadata": {
        "colab": {
          "base_uri": "https://localhost:8080/"
        },
        "id": "hhyLUeI3KJK-",
        "outputId": "c8e31ce5-c0db-4225-954a-59ac2d733425"
      },
      "outputs": [
        {
          "output_type": "execute_result",
          "data": {
            "text/plain": [
              "array([1, 2, 1, 1, 1, 2, 0, 2, 1, 1, 1, 1, 1, 1, 1, 1, 1, 2, 1, 2, 1, 2,\n",
              "       2, 1, 1, 1, 1, 2, 1, 0, 1, 1, 1, 2, 2, 0, 2, 1, 2, 0, 1, 0, 1, 2,\n",
              "       2, 0, 0, 1])"
            ]
          },
          "metadata": {},
          "execution_count": 483
        }
      ],
      "source": [
        "pred_nbc"
      ]
    },
    {
      "cell_type": "code",
      "execution_count": null,
      "metadata": {
        "id": "S-FIv0lMNm6V"
      },
      "outputs": [],
      "source": [
        "import matplotlib.pyplot as plt\n",
        "import seaborn as sns"
      ]
    },
    {
      "cell_type": "code",
      "execution_count": null,
      "metadata": {
        "colab": {
          "base_uri": "https://localhost:8080/",
          "height": 404
        },
        "id": "wS_I-ByTNsWl",
        "outputId": "c0504fc0-ec42-4f7b-c406-a892ae102895"
      },
      "outputs": [
        {
          "output_type": "display_data",
          "data": {
            "text/plain": [
              "<Figure size 600x400 with 1 Axes>"
            ],
            "image/png": "[encoded data removed]"
          },
          "metadata": {
            "needs_background": "light"
          }
        }
      ],
      "source": [
        "from sklearn.metrics import confusion_matrix\n",
        "\n",
        "plt.figure(dpi=100)\n",
        "mat= confusion_matrix(y_test, pred_svm)\n",
        "sns.heatmap(mat.T, annot=True, fmt='d', cbar=False)\n",
        "\n",
        "plt.title('Confusion Matrix for Support Vector Machine')\n",
        "plt.xlabel('true label')\n",
        "plt.ylabel('predicted label')\n",
        "plt.savefig(\"confusion_matrix.png\")\n",
        "plt.show()"
      ]
    },
    {
      "cell_type": "code",
      "execution_count": null,
      "metadata": {
        "colab": {
          "base_uri": "https://localhost:8080/",
          "height": 404
        },
        "id": "LJ8q4XkEN8yS",
        "outputId": "f52e0de4-ff6c-46e3-e8eb-2c84e9f7999b"
      },
      "outputs": [
        {
          "output_type": "display_data",
          "data": {
            "text/plain": [
              "<Figure size 600x400 with 1 Axes>"
            ],
            "image/png": "[encoded data removed]"
          },
          "metadata": {
            "needs_background": "light"
          }
        }
      ],
      "source": [
        "plt.figure(dpi=100)\n",
        "mat= confusion_matrix(y_test, pred_nbc)\n",
        "sns.heatmap(mat.T, annot=True, fmt='d', cbar=False)\n",
        "\n",
        "plt.title('Confusion Matrix for Naive Bayes Classifier')\n",
        "plt.xlabel('true label')\n",
        "plt.ylabel('predicted label')\n",
        "plt.savefig(\"confusion_matrix.png\")\n",
        "plt.show()"
      ]
    }
  ],
  "metadata": {
    "colab": {
      "collapsed_sections": [],
      "name": "Proses Validasi.ipynb",
      "provenance": []
    },
    "kernelspec": {
      "display_name": "Python 3",
      "name": "python3"
    },
    "language_info": {
      "name": "python"
    }
  },
  "nbformat": 4,
  "nbformat_minor": 0
}